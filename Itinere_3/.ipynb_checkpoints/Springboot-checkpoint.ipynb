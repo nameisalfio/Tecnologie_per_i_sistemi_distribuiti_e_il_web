{
 "cells": [
  {
   "cell_type": "markdown",
   "id": "aa196ef1-8949-46cf-beeb-53df805d8933",
   "metadata": {},
   "source": [
    "# SPRINGBOOT"
   ]
  },
  {
   "cell_type": "markdown",
   "id": "41661673-3360-47b9-aae7-259288ab82f1",
   "metadata": {},
   "source": [
    "## application.properties"
   ]
  },
  {
   "cell_type": "raw",
   "id": "26494ab7-e828-46c3-ba85-c2932c6f5f01",
   "metadata": {},
   "source": [
    "spring.datasource.url=jdbc:mysql://localhost:3306/client_order\n",
    "spring.datasource.username=root\n",
    "spring.datasource.password=root\n",
    "spring.jpa.hibernate.ddl-auto=update"
   ]
  },
  {
   "cell_type": "markdown",
   "id": "79e00771-017d-43ef-ba09-c370d20610be",
   "metadata": {},
   "source": [
    "## Models"
   ]
  },
  {
   "cell_type": "markdown",
   "id": "25691e43-ee93-49fa-a329-f9a3bed94073",
   "metadata": {},
   "source": [
    "### --> Client (1)"
   ]
  },
  {
   "cell_type": "raw",
   "id": "d3895d3e-1867-4ce3-b2c2-fe4441930956",
   "metadata": {},
   "source": [
    "@Entity\n",
    "@Table(name=\"clients\")\n",
    "@Data\n",
    "@NoArgsConstructor\n",
    "public class Client {\n",
    "    \n",
    "    @Id\n",
    "    @GeneratedValue(strategy = GenerationType.IDENTITY)\n",
    "\n",
    "    Long id;\n",
    "    String name;\n",
    "    String lastname;\n",
    "    Integer age;\n",
    "\n",
    "    public Client(String name, String lastname, Integer age) {\n",
    "        this.name = name;\n",
    "        this.lastname = lastname;\n",
    "        this.age = age;\n",
    "    }\n",
    "}"
   ]
  },
  {
   "cell_type": "markdown",
   "id": "ad79f391-a6a1-4331-89d2-c2067dac053f",
   "metadata": {},
   "source": [
    "### --> Order (M)"
   ]
  },
  {
   "cell_type": "raw",
   "id": "5a150274-30e0-4dcc-83e5-899e7fa30e9e",
   "metadata": {},
   "source": [
    "@Entity\n",
    "@Table(name=\"orders\")\n",
    "@Data\n",
    "@NoArgsConstructor\n",
    "public class Order {\n",
    "    \n",
    "    @Id\n",
    "    @GeneratedValue(strategy = GenerationType.IDENTITY)\n",
    "\n",
    "    Long id;\n",
    "    String object;\n",
    "\n",
    "    @ManyToOne\n",
    "    @JoinColumn(name = \"client_id\")\n",
    "    private Client client_id;\n",
    "\n",
    "    public Order(String object, Client client_id) {\n",
    "        this.object = object;\n",
    "        this.client_id = client_id;\n",
    "    }\n",
    "}"
   ]
  },
  {
   "cell_type": "markdown",
   "id": "73cfdd5f-f5d7-407d-a5d0-40acf66c31b9",
   "metadata": {},
   "source": [
    "# Views"
   ]
  },
  {
   "cell_type": "markdown",
   "id": "ad0b9994-4b45-48ee-b60d-5d398d4c9ed7",
   "metadata": {},
   "source": [
    "### welcome.blade.php"
   ]
  },
  {
   "cell_type": "raw",
   "id": "00898ebd-61e7-480b-bc22-5031147af53d",
   "metadata": {},
   "source": [
    "<html>\n",
    "    <body>\n",
    "        <h2>Welcome</h2>\n",
    "        <a href=\"{{route('clients.index')}}\"><button>Clients</button></a>\n",
    "        <a href=\"{{route('orders.index')}}\"><button>Orders</button></a>\n",
    "    </body>\n",
    "</html>"
   ]
  },
  {
   "cell_type": "markdown",
   "id": "b69097c9-6f62-4b8d-bd69-b4cdf04cd1f8",
   "metadata": {},
   "source": [
    "### --> Client (1)"
   ]
  },
  {
   "cell_type": "raw",
   "id": "e870277b-0662-40b7-b0e7-a0c0e30f8dfc",
   "metadata": {},
   "source": [
    "<html>\n",
    "    <body>\n",
    "        <h2>Index</h2>\n",
    "        \n",
    "        <form th:each=\"c:${clients}\">\n",
    "            <p>Name: <span th:text=\"${c.name}\"></span>\n",
    "            <button formaction=\"clients/show\" method=\"GET\">Show</button>\n",
    "            <button formaction=\"clients/edit\" method=\"GET\">Edit</button>\n",
    "            <input type=\"hidden\" name=\"id\" th:value=\"${c.id}\">\n",
    "        </form>\n",
    "        <br>\n",
    "        <form action=\"clients/create\" method=\"GET\">\n",
    "            <button>Create new client</button>\n",
    "        </form>\n",
    "\n",
    "        <br><a href=\"../\"><button>Back to Welcome</button></a>\n",
    "    </body>\n",
    "</html>"
   ]
  },
  {
   "cell_type": "raw",
   "id": "79077318-45c9-4d9f-b8ee-be8188e1987f",
   "metadata": {},
   "source": [
    "<html>\n",
    "    <body>\n",
    "        <h2>Create</h2>\n",
    "\n",
    "        <form action=\"/clients/store\" method=\"POST\">            \n",
    "            Name:<input name=\"name\" required><br>\n",
    "            Lastname:<input name=\"lastname\" required><br>\n",
    "            Age:<input name=\"age\" required><br><br>\n",
    "            <button>Create</button>\n",
    "        </form>\n",
    "\n",
    "        <br><a href=\"/clients\"><button>Back to home</button></a>\n",
    "    </body>\n",
    "</html>"
   ]
  },
  {
   "cell_type": "raw",
   "id": "cfa16ed4-12f3-4371-a576-429be4653776",
   "metadata": {},
   "source": [
    "<html>\n",
    "    <body>\n",
    "        <h2>Show</h2>\n",
    "\n",
    "        <p>ID: <span th:text=\"${c.id}\"></span></p>\n",
    "        <p>Name: <span th:text=\"${c.name}\"></span></p>\n",
    "        <p>Lastname: <span th:text=\"${c.lastname}\"></span></p>\n",
    "        <p>Age: <span th:text=\"${c.age}\"></span></p>\n",
    "        <br>\n",
    "        <form action=\"/clients/destroy\" method=\"POST\">\n",
    "            <button>Delete</button>\n",
    "            <input type=\"hidden\" name=\"id\" th:value=\"${c.id}\">\n",
    "        </form>\n",
    "\n",
    "        <br><a href=\"/clients\"><button>Back to home</button></a>\n",
    "    </body>\n",
    "</html>"
   ]
  },
  {
   "cell_type": "raw",
   "id": "fe4d09ed-8ce8-4abb-8097-a485a08b7b81",
   "metadata": {},
   "source": [
    "<html>\n",
    "    <body>\n",
    "        <h2>Edit</h2>\n",
    "\n",
    "        <form action=\"/clients/update\" method=\"POST\" th:object=\"${c}\">\n",
    "            <p>Name:<input name=\"name\" th:field=\"*{name}\"></p>\n",
    "            <p>Lastname:<input name=\"lastname\" th:field=\"*{lastname}\"></p>\n",
    "            <p>Age:<input name=\"age\" th:field=\"*{age}\"></p><br>\n",
    "            <button>Update</button>\n",
    "            <input type=\"hidden\" name=\"id\" th:field=\"*{id}\">\n",
    "        </form>\n",
    "\n",
    "        <br><a href=\"/clients\"><button>Back to home</button></a>\n",
    "    </body>\n",
    "</html>"
   ]
  },
  {
   "cell_type": "markdown",
   "id": "fcd170d6-8b73-4fc1-af71-6260ac469380",
   "metadata": {},
   "source": [
    "### --> Order (M)"
   ]
  },
  {
   "cell_type": "raw",
   "id": "e226a75b-a7b1-4dc7-aaf0-a253fae3973b",
   "metadata": {},
   "source": [
    "<html>\n",
    "    <body>\n",
    "        <h2>Index</h2>\n",
    "        \n",
    "        <form th:each=\"o:${orders}\">\n",
    "            <p>Object: <span th:text=\"${o.object}\"></span></p>\n",
    "            <button formaction=\"orders/show\" method=\"GET\">Show</button>\n",
    "            <button formaction=\"orders/edit\" method=\"GET\">Edit</button>\n",
    "            <input type=\"hidden\" name=\"id\" th:value=\"${o.id}\">\n",
    "        </form>\n",
    "        <br>\n",
    "        <form action=\"/orders/create\"  method=\"GET\">\n",
    "            <button>Create new order</button>\n",
    "        </form>\n",
    "\n",
    "        <br><a href=\"../\"><button>Back to Welcome</button></a>\n",
    "    </body>\n",
    "</html>"
   ]
  },
  {
   "cell_type": "raw",
   "id": "1328c798-37de-4805-99b0-d2981588f937",
   "metadata": {},
   "source": [
    "<html>\n",
    "    <body>\n",
    "        <h2>Create</h2>\n",
    "\n",
    "        <form action=\"/orders/store\" method=\"POST\">              \n",
    "            Object:<input name=\"object\" required><br>\n",
    "            Client:\n",
    "            <select name=\"client_id\" required>\n",
    "                <div th:each=\"c:${clients}\">\n",
    "                    <option th:value=\"${c.id}\"><span th:text=\"${c.name}\"></span></option>\n",
    "                </div>\n",
    "            </select><br><br>\n",
    "            <button>Create</button>\n",
    "        </form>\n",
    "\n",
    "        <br><a href=\"/orders\"><button>Back to home</button></a>\n",
    "    </body>\n",
    "</html>"
   ]
  },
  {
   "cell_type": "raw",
   "id": "36e6842f-f51f-49a1-9df9-4190261d4ab9",
   "metadata": {},
   "source": [
    "<html>\n",
    "    <body>\n",
    "        <h2>Show</h2>\n",
    "\n",
    "        <p>ID: <span th:text=\"${o.id}\"></span></p>\n",
    "        <p>Object: <span th:text=\"${o.object}\"></span></p>\n",
    "        <p>Client: <span th:text=\"${o.client_id.name}\"></span></p>\n",
    "        <br>\n",
    "        <form action=\"/orders/destroy\" method=\"POST\">\n",
    "            <button>Delete</button>\n",
    "            <input type=\"hidden\" name=\"id\" th:value=\"${o.id}\">\n",
    "        </form>\n",
    "\n",
    "        <br><a href=\"/orders\"><button>Back to home</button></a>\n",
    "    </body>\n",
    "</html>"
   ]
  },
  {
   "cell_type": "raw",
   "id": "6f23da6e-04b3-4b65-b6cb-2e6295f513dc",
   "metadata": {},
   "source": [
    "<html>\n",
    "    <body>\n",
    "        <h2>Edit</h2>\n",
    "\n",
    "        <form action=\"/orders/update\" method=\"POST\" th:object=\"${o}\">\n",
    "            Object:<input name=\"name\" th:field=\"*{object}\"><br>\n",
    "            Client:\n",
    "            <select name=\"client_id\">\n",
    "                <div th:each=\"c:${clients}\">\n",
    "                    <option th:value=\"${c.id}\"><span th:text=\"${c.name}\"></span></option>\n",
    "                </div>\n",
    "            </select><br><br>\n",
    "            <button>Update</button>\n",
    "            <input type=\"hidden\" name=\"id\" th:field=\"*{id}\">\n",
    "        </form>\n",
    "\n",
    "        <a href=\"/orders\"><button>Back to home</button></a>\n",
    "    </body>\n",
    "</html>"
   ]
  },
  {
   "cell_type": "markdown",
   "id": "3c0f8eb8-fcff-49ba-86f3-be7782b30077",
   "metadata": {},
   "source": [
    "## Repository"
   ]
  },
  {
   "cell_type": "markdown",
   "id": "228971e0-dd6a-40d2-ac9a-707bd9195fdb",
   "metadata": {},
   "source": [
    "### --> Client (1)"
   ]
  },
  {
   "cell_type": "raw",
   "id": "558de7be-087e-46ca-a34d-c5a5e0ef4012",
   "metadata": {},
   "source": [
    "public interface ClientRepository extends JpaRepository<Client, Long>{}"
   ]
  },
  {
   "cell_type": "markdown",
   "id": "fc8e8aed-0260-4419-aa8a-4de09d80906b",
   "metadata": {},
   "source": [
    "### --> Order (M)"
   ]
  },
  {
   "cell_type": "raw",
   "id": "04faaf30-025d-4c58-9906-331c955bec60",
   "metadata": {},
   "source": [
    "public interface OrderRepository extends JpaRepository<Order, Long>{}"
   ]
  },
  {
   "cell_type": "markdown",
   "id": "1dd5cf1e-94a0-46ca-8fef-2020dbd57b52",
   "metadata": {},
   "source": [
    "# Controllers"
   ]
  },
  {
   "cell_type": "markdown",
   "id": "18111b62-3002-451f-9e05-a078338bbd88",
   "metadata": {},
   "source": [
    "### --> Client (1)"
   ]
  },
  {
   "cell_type": "raw",
   "id": "51325f96-6cd8-410d-bb0e-a74a80ff2205",
   "metadata": {},
   "source": [
    "@Controller\n",
    "public class ClientController {\n",
    "    \n",
    "    final ClientRepository repo;\n",
    "\n",
    "    public ClientController(ClientRepository repo) {\n",
    "        this.repo = repo;\n",
    "    }\n",
    "\n",
    "    @GetMapping(\"/\")\n",
    "    String welcome(){\n",
    "        return \"welcome\";\n",
    "    }\n",
    "\n",
    "    @GetMapping(\"/clients\")\n",
    "    String index(Model model){\n",
    "        model.addAttribute(\"clients\", repo.findAll());\n",
    "        return \"/clients/index\";\n",
    "    }\n",
    "\n",
    "    @GetMapping(\"/clients/create\")\n",
    "    String create(){\n",
    "       return \"/clients/create\";\n",
    "    }\n",
    "\n",
    "    @PostMapping(\"/clients/store\")\n",
    "    String store(Client c){\n",
    "        repo.save(c);\n",
    "        return \"redirect:/clients\";\n",
    "    }\n",
    "\n",
    "    @GetMapping(\"/clients/show\")\n",
    "    String show(Long id, Model model){\n",
    "        model.addAttribute(\"c\", repo.findById(id).orElse(null));\n",
    "        return \"/clients/show\";\n",
    "    }\n",
    "\n",
    "    @GetMapping(\"/clients/edit\")\n",
    "    String edit(Long id, Model model){\n",
    "        model.addAttribute(\"c\", repo.findById(id).orElse(null));\n",
    "        return \"/clients/edit\";\n",
    "    }\n",
    "\n",
    "    @PostMapping(\"/clients/update\")\n",
    "    String update(Client c){\n",
    "        repo.save(c);\n",
    "        return \"redirect:/clients\";\n",
    "    }\n",
    "\n",
    "    @PostMapping(\"/clients/destroy\")\n",
    "    String destroy(Long id){\n",
    "        repo.deleteById(id);\n",
    "        return \"redirect:/clients\";\n",
    "    }\n",
    "}"
   ]
  },
  {
   "cell_type": "markdown",
   "id": "6bb1aedc-148a-421b-bba9-57eb612964d1",
   "metadata": {},
   "source": [
    "### --> Order (M)"
   ]
  },
  {
   "cell_type": "raw",
   "id": "0d718a4b-7141-415b-8791-adec75ec6e92",
   "metadata": {},
   "source": [
    "@Controller\n",
    "public class OrderController {\n",
    "    final OrderRepository repo;\n",
    "    final ClientRepository clientRepo;\n",
    "\n",
    "    public OrderController(OrderRepository repo, ClientRepository clientRepo) {\n",
    "        this.repo = repo;\n",
    "        this.clientRepo = clientRepo;\n",
    "    }\n",
    "\n",
    "    @GetMapping(\"/orders\")\n",
    "    String index(Model model){\n",
    "        model.addAttribute(\"orders\", repo.findAll());\n",
    "        return \"/orders/index\";\n",
    "    }\n",
    "\n",
    "    @GetMapping(\"/orders/create\")\n",
    "    String create(Model model){\n",
    "       model.addAttribute(\"clients\", clientRepo.findAll());\n",
    "       return \"/orders/create\";\n",
    "    }\n",
    "\n",
    "    @PostMapping(\"/orders/store\")\n",
    "    String store(Order o){\n",
    "        repo.save(o);\n",
    "        return \"redirect:/orders\";\n",
    "    }\n",
    "\n",
    "    @GetMapping(\"/orders/show\")\n",
    "    String show(Long id, Model model){\n",
    "        model.addAttribute(\"o\", repo.findById(id).orElse(null));\n",
    "        return \"/orders/show\";\n",
    "    }\n",
    "\n",
    "    @GetMapping(\"/orders/edit\")\n",
    "    String edit(Long id, Model model){\n",
    "        model.addAttribute(\"clients\", clientRepo.findAll());\n",
    "        model.addAttribute(\"o\", repo.findById(id).orElse(null));\n",
    "        return \"/orders/edit\";\n",
    "    }\n",
    "\n",
    "    @PostMapping(\"/orders/update\")\n",
    "    String update(Order o){\n",
    "        repo.save(o);\n",
    "        return \"redirect:/orders\";\n",
    "    }\n",
    "\n",
    "    @PostMapping(\"/orders/destroy\")\n",
    "    String destroy(Long id){\n",
    "        repo.deleteById(id);\n",
    "        return \"redirect:/orders\";\n",
    "    }\n",
    "}"
   ]
  }
 ],
 "metadata": {
  "kernelspec": {
   "display_name": "Python 3 (ipykernel)",
   "language": "python",
   "name": "python3"
  },
  "language_info": {
   "codemirror_mode": {
    "name": "ipython",
    "version": 3
   },
   "file_extension": ".py",
   "mimetype": "text/x-python",
   "name": "python",
   "nbconvert_exporter": "python",
   "pygments_lexer": "ipython3",
   "version": "3.10.12"
  },
  "widgets": {
   "application/vnd.jupyter.widget-state+json": {
    "state": {},
    "version_major": 2,
    "version_minor": 0
   }
  }
 },
 "nbformat": 4,
 "nbformat_minor": 5
}
