{
 "cells": [
  {
   "cell_type": "markdown",
   "id": "aa196ef1-8949-46cf-beeb-53df805d8933",
   "metadata": {},
   "source": [
    "# LARAVEL"
   ]
  },
  {
   "cell_type": "markdown",
   "id": "79e00771-017d-43ef-ba09-c370d20610be",
   "metadata": {},
   "source": [
    "## Models"
   ]
  },
  {
   "cell_type": "markdown",
   "id": "25691e43-ee93-49fa-a329-f9a3bed94073",
   "metadata": {},
   "source": [
    "### --> Client (M)"
   ]
  },
  {
   "cell_type": "raw",
   "id": "d3895d3e-1867-4ce3-b2c2-fe4441930956",
   "metadata": {},
   "source": [
    "class Client extends Model\n",
    "{\n",
    "    use HasFactory;\n",
    "    protected $fillable = [\"name\", \"lastname\", \"age\"];\n",
    "\n",
    "    public function orders()\n",
    "    {\n",
    "        return $this->hasMany(Order::class);\n",
    "    }\n",
    "}"
   ]
  },
  {
   "cell_type": "markdown",
   "id": "ad79f391-a6a1-4331-89d2-c2067dac053f",
   "metadata": {},
   "source": [
    "### --> Order (1)"
   ]
  },
  {
   "cell_type": "raw",
   "id": "5a150274-30e0-4dcc-83e5-899e7fa30e9e",
   "metadata": {},
   "source": [
    "class Order extends Model\n",
    "{\n",
    "    use HasFactory;\n",
    "    protected $fillable = [\"object\", \"client_id\"];\n",
    "\n",
    "    public function client()\n",
    "    {\n",
    "        return $this->belongTo(Client::class);\n",
    "    }\n",
    "}"
   ]
  },
  {
   "cell_type": "markdown",
   "id": "73cfdd5f-f5d7-407d-a5d0-40acf66c31b9",
   "metadata": {},
   "source": [
    "# Views"
   ]
  },
  {
   "cell_type": "markdown",
   "id": "ad0b9994-4b45-48ee-b60d-5d398d4c9ed7",
   "metadata": {},
   "source": [
    "### welcome.blade.php"
   ]
  },
  {
   "cell_type": "raw",
   "id": "00898ebd-61e7-480b-bc22-5031147af53d",
   "metadata": {},
   "source": [
    "<html>\n",
    "    <body>\n",
    "        <h2>Welcome</h2>\n",
    "        <a href=\"{{route('clients.index')}}\"><button>Clients</button></a>\n",
    "        <a href=\"{{route('orders.index')}}\"><button>Orders</button></a>\n",
    "    </body>\n",
    "</html>"
   ]
  },
  {
   "cell_type": "markdown",
   "id": "b69097c9-6f62-4b8d-bd69-b4cdf04cd1f8",
   "metadata": {},
   "source": [
    "### --> Client (M)"
   ]
  },
  {
   "cell_type": "raw",
   "id": "e870277b-0662-40b7-b0e7-a0c0e30f8dfc",
   "metadata": {},
   "source": [
    "<html>\n",
    "    <body>\n",
    "        <h2>Index</h2>\n",
    "        \n",
    "        @foreach($clients as $c)\n",
    "        <form>\n",
    "            <p>Name: {{$c->name}}</p>\n",
    "            <button formaction=\"{{route('clients.show', $c->id)}}\" method=\"GET\">Show</button>\n",
    "            <button formaction=\"{{route('clients.edit', $c->id)}}\" method=\"GET\">Edit</button>\n",
    "        </form>\n",
    "        @endforeach\n",
    "        <br>\n",
    "        <form action=\"{{route('clients.create')}}\" method=\"GET\">\n",
    "            <button>Create new client</button>\n",
    "        </form>\n",
    "\n",
    "        <br><a href=\"../\"><button>Back to Welcome</button></a>\n",
    "    </body>\n",
    "</html>"
   ]
  },
  {
   "cell_type": "raw",
   "id": "79077318-45c9-4d9f-b8ee-be8188e1987f",
   "metadata": {},
   "source": [
    "<html>\n",
    "    <body>\n",
    "        <h2>Create</h2>\n",
    "\n",
    "        <form action=\"{{route('clients.store')}}\" method=\"POST\">\n",
    "            @csrf\n",
    "            \n",
    "            Name:<input name=\"name\" required><br>\n",
    "            Lastname:<input name=\"lastname\" required><br>\n",
    "            Age:<input name=\"age\" required><br><br>\n",
    "            <button>Create</button>\n",
    "        </form>\n",
    "\n",
    "        <br><a href=\"{{route('clients.index')}}\"><button>Back to home</button></a>\n",
    "    </body>\n",
    "</html>"
   ]
  },
  {
   "cell_type": "raw",
   "id": "cfa16ed4-12f3-4371-a576-429be4653776",
   "metadata": {},
   "source": [
    "<html>\n",
    "    <body>\n",
    "        <h2>Show</h2>\n",
    "\n",
    "        <p>ID: {{$c->id}}</p>\n",
    "        <p>Name: {{$c->name}}</p>\n",
    "        <p>Lastname: {{$c->lastname}}</p>\n",
    "        <p>Age: {{$c->age}}</p>\n",
    "        <br>\n",
    "        <form action=\"{{route('clients.destroy', $c->id)}}\" method=\"POST\">\n",
    "            @csrf \n",
    "            @method(\"DELETE\")\n",
    "            <button>Delete</button>\n",
    "        </form>\n",
    "\n",
    "        <a href=\"{{route('clients.index')}}\"><button>Back to home</button></a>\n",
    "    </body>\n",
    "</html>"
   ]
  },
  {
   "cell_type": "raw",
   "id": "fe4d09ed-8ce8-4abb-8097-a485a08b7b81",
   "metadata": {},
   "source": [
    "<html>\n",
    "    <body>\n",
    "        <h2>Clients</h2>\n",
    "\n",
    "        <form action=\"{{route('clients.update', $c->id)}}\" method=\"POST\">\n",
    "            @csrf\n",
    "            @method(\"PUT\")\n",
    "            \n",
    "            <p>Name:<input name=\"name\" value=\"{{$c->name}}\"></p>\n",
    "            <p>Lastname:<input name=\"lastname\" value=\"{{$c->lastname}}\"></p>\n",
    "            <p>Age:<input name=\"age\" value=\"{{$c->age}}\"></p><br>\n",
    "            <button>Update</button>\n",
    "        </form>\n",
    "\n",
    "        <a href=\"{{route('clients.index')}}\"><button>Back to home</button></a>\n",
    "    </body>\n",
    "</html>"
   ]
  },
  {
   "cell_type": "markdown",
   "id": "fcd170d6-8b73-4fc1-af71-6260ac469380",
   "metadata": {},
   "source": [
    "### --> Order (1)"
   ]
  },
  {
   "cell_type": "raw",
   "id": "e226a75b-a7b1-4dc7-aaf0-a253fae3973b",
   "metadata": {},
   "source": [
    "<html>\n",
    "    <body>\n",
    "        <h2>Index</h2>\n",
    "        \n",
    "        @foreach($orders as $o)\n",
    "        <form>\n",
    "            <p>Object: {{$o->object}}</p>\n",
    "            <button formaction=\"{{route('orders.show', $o->id)}}\" method=\"GET\">Show</button>\n",
    "            <button formaction=\"{{route('orders.edit', $o->id)}}\" method=\"GET\">Edit</button>\n",
    "        </form>\n",
    "        @endforeach\n",
    "        <br>\n",
    "        <form action=\"{{route('orders.create')}}\" method=\"GET\">\n",
    "            <button>Create new order</button>\n",
    "        </form>\n",
    "\n",
    "        <br><a href=\"../\"><button>Back to Welcome</button></a>\n",
    "    </body>\n",
    "</html>"
   ]
  },
  {
   "cell_type": "raw",
   "id": "1328c798-37de-4805-99b0-d2981588f937",
   "metadata": {},
   "source": [
    "<html>\n",
    "    <body>\n",
    "        <h2>Create</h2>\n",
    "\n",
    "        <form action=\"{{route('orders.store')}}\" method=\"POST\">\n",
    "            @csrf\n",
    "            \n",
    "            Object:<input name=\"object\" required><br>\n",
    "            Client:\n",
    "            <select name=\"client_id\" required>\n",
    "                @foreach($clients as $c)\n",
    "                    <option value=\"{{$c->id}}\">{{$c->name}}</option>\n",
    "                @endforeach\n",
    "            </select><br><br>\n",
    "            <button>Create</button>\n",
    "        </form>\n",
    "\n",
    "        <br><a href=\"{{route('orders.index')}}\"><button>Back to home</button></a>\n",
    "    </body>\n",
    "</html>"
   ]
  },
  {
   "cell_type": "raw",
   "id": "36e6842f-f51f-49a1-9df9-4190261d4ab9",
   "metadata": {},
   "source": [
    "<html>\n",
    "    <body>\n",
    "        <h2>Show</h2>\n",
    "\n",
    "        <p>ID: {{$o->id}}</p>\n",
    "        <p>Object: {{$o->object}}</p>\n",
    "        <p>Client: {{$o->client_id}}</p>\n",
    "        <br>\n",
    "        <form action=\"{{route('orders.destroy', $o->id)}}\" method=\"POST\">\n",
    "            @csrf \n",
    "            @method(\"DELETE\")\n",
    "            <button>Delete</button>\n",
    "        </form>\n",
    "\n",
    "        <a href=\"{{route('orders.index')}}\"><button>Back to home</button></a>\n",
    "    </body>\n",
    "</html>"
   ]
  },
  {
   "cell_type": "raw",
   "id": "6f23da6e-04b3-4b65-b6cb-2e6295f513dc",
   "metadata": {},
   "source": [
    "<html>\n",
    "    <body>\n",
    "        <h2>Edit</h2>\n",
    "\n",
    "        <form action=\"{{route('orders.update', $o->id)}}\" method=\"POST\">\n",
    "            @csrf\n",
    "            @method(\"PUT\")\n",
    "            \n",
    "            Object:<input name=\"name\" value=\"{{$o->name}}\"><br>\n",
    "            Client:\n",
    "            <select name=\"client_id\">\n",
    "                @foreach($clients as $c)\n",
    "                <option value=\"{{$c->id}}\">{{$c->name}}</option>\n",
    "                @endforeach\n",
    "            </select><br>\n",
    "            <button>Update</button>\n",
    "        </form>\n",
    "\n",
    "        <a href=\"{{route('orders.index')}}\"><button>Back to home</button></a>\n",
    "    </body>\n",
    "</html>"
   ]
  },
  {
   "cell_type": "markdown",
   "id": "1dd5cf1e-94a0-46ca-8fef-2020dbd57b52",
   "metadata": {},
   "source": [
    "# Controllers"
   ]
  },
  {
   "cell_type": "markdown",
   "id": "9727a2db-efa0-464b-9082-4a189af754d5",
   "metadata": {},
   "source": [
    "### web.php"
   ]
  },
  {
   "cell_type": "raw",
   "id": "37404ae6-92d3-470f-9097-7158199c1d47",
   "metadata": {},
   "source": [
    "Route::resource(\"orders\", OrderController::class);\n",
    "Route::resource(\"clients\", ClientController::class);"
   ]
  },
  {
   "cell_type": "markdown",
   "id": "18111b62-3002-451f-9e05-a078338bbd88",
   "metadata": {},
   "source": [
    "### --> Client (M)"
   ]
  },
  {
   "cell_type": "raw",
   "id": "51325f96-6cd8-410d-bb0e-a74a80ff2205",
   "metadata": {},
   "source": [
    "class ClientController extends Controller\n",
    "{\n",
    "    public function index()\n",
    "    {\n",
    "        return view(\"clients.index\", [\"clients\" => Client::all()]);\n",
    "    }\n",
    "\n",
    "    public function create()\n",
    "    {\n",
    "        return view(\"clients.create\");\n",
    "    }\n",
    "\n",
    "    public function store(Request $request)\n",
    "    {\n",
    "        Client::create($request->all());\n",
    "        return redirect()->route(\"clients.index\");\n",
    "    }\n",
    "\n",
    "    public function show(Client $client)\n",
    "    {\n",
    "        return view(\"clients.show\", [\"c\" => $client]);\n",
    "    }\n",
    "\n",
    "    public function edit(Client $client)\n",
    "    {\n",
    "        return view(\"clients.edit\", [\"c\" => $client]);\n",
    "    }\n",
    "\n",
    "    public function update(Request $request, Client $client)\n",
    "    {\n",
    "        $client->update($request->all());\n",
    "        return redirect()->route(\"clients.index\");\n",
    "    }\n",
    "\n",
    "    public function destroy(Client $client)\n",
    "    {\n",
    "        $client->delete();\n",
    "        return redirect()->route(\"clients.index\");\n",
    "    }\n",
    "}"
   ]
  },
  {
   "cell_type": "markdown",
   "id": "6bb1aedc-148a-421b-bba9-57eb612964d1",
   "metadata": {},
   "source": [
    "### --> Order (1)"
   ]
  },
  {
   "cell_type": "raw",
   "id": "0d718a4b-7141-415b-8791-adec75ec6e92",
   "metadata": {},
   "source": [
    "class OrderController extends Controller\n",
    "{\n",
    "    public function index()\n",
    "    {\n",
    "        return view(\"orders.index\", [\"orders\" => Order::all()]);\n",
    "    }\n",
    "\n",
    "    public function create()\n",
    "    {\n",
    "        return view(\"orders.create\", [\"clients\" => Client::all()]);\n",
    "    }\n",
    "\n",
    "    public function store(Request $request)\n",
    "    {\n",
    "        Order::create($request->all());\n",
    "        return redirect()->route(\"orders.index\");\n",
    "    }\n",
    "\n",
    "    public function show(Order $order)\n",
    "    {\n",
    "        return view(\"orders.show\", [\"o\" => $order]);\n",
    "    }\n",
    "\n",
    "    public function edit(Order $order)\n",
    "    {\n",
    "        return view(\"orders.edit\", [\"o\" => $order,\"clients\" => Client::all()]);\n",
    "    }\n",
    "\n",
    "    public function update(Request $request, Order $order)\n",
    "    {\n",
    "        $order->update($request->all());\n",
    "        return redirect()->route(\"orders.index\");\n",
    "    }\n",
    "\n",
    "    public function destroy(Order $order)\n",
    "    {\n",
    "        $order->delete();\n",
    "        return redirect()->route(\"orders.index\");\n",
    "    }\n",
    "}"
   ]
  }
 ],
 "metadata": {
  "kernelspec": {
   "display_name": "Python 3 (ipykernel)",
   "language": "python",
   "name": "python3"
  },
  "language_info": {
   "codemirror_mode": {
    "name": "ipython",
    "version": 3
   },
   "file_extension": ".py",
   "mimetype": "text/x-python",
   "name": "python",
   "nbconvert_exporter": "python",
   "pygments_lexer": "ipython3",
   "version": "3.10.12"
  }
 },
 "nbformat": 4,
 "nbformat_minor": 5
}
