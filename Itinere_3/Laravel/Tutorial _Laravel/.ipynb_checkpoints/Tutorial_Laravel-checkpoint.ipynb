{
 "cells": [
  {
   "cell_type": "markdown",
   "id": "bd58aed8-b5a6-4eab-9114-f6d82f2bacef",
   "metadata": {},
   "source": [
    "# Tutorial Laravel"
   ]
  },
  {
   "cell_type": "markdown",
   "id": "3c5884d3",
   "metadata": {},
   "source": [
    "<section>\n",
    "    <h2>Descrizione</h2>\n",
    "    <p>\n",
    "        Questo è un semplice tutorial che guida step-by-step alla creazione di un microservizio Laravel denominato <strong>Teams</strong> che si basa sull'utilizzo di un database <strong>Teams_Players</strong>.<br> Sarà possibile effettuare le seguenti operazioni C R U D :\n",
    "        <ul>\n",
    "            <li>Visione di tutti i record</li>\n",
    "            <li>Inserimento di un record</li>\n",
    "            <li>Vedere tutti i dettagli di un record</li>\n",
    "            <li>Rimozione di un record</li>\n",
    "            <li>Aggiornamento di un record</li>\n",
    "        </ul>\n",
    "    </p>\n",
    "</section>"
   ]
  },
  {
   "cell_type": "markdown",
   "id": "5edb010b",
   "metadata": {},
   "source": [
    "<section>\n",
    "    <h2>Avviare il server di Laravel</h2>\n",
    "    <code>php artisan serve</code><br><br>\n",
    "    <p>Si nota che di default il server web espone l'applicazione sulla porta 8000 all'indirizzo IP 127.0.0.1 (localhost)</p>\n",
    "</section>"
   ]
  },
  {
   "cell_type": "markdown",
   "id": "982ac5d4",
   "metadata": {},
   "source": [
    "<section>\n",
    "    <h2>File .env</h2>\n",
    "    <p>Si modifica il file <strong>.env</strong> del nostro progetto inserendo il nome del database e le credenziali di accesso come segue:</p>\n",
    "    <pre><code>\n",
    "        DB_CONNECTION=mysql\n",
    "        DB_HOST=127.0.0.1\n",
    "        DB_PORT=3306\n",
    "        DB_DATABASE=Teams_Players\n",
    "        DB_USERNAME=root\n",
    "        DB_PASSWORD=root\n",
    "    </code></pre>\n",
    "    <p>Si nota che Laravel stesso provvederà alla creazione del database</p>\n",
    "</section>"
   ]
  },
  {
   "cell_type": "markdown",
   "id": "c63d3092",
   "metadata": {},
   "source": [
    "<section>\n",
    "    <h2>Model</h2>\n",
    "        Per prima cosa ci serve creare i Models \"Team\" e \"Player\". Si nota che i nomi dei model devono essere al <strong>singolare</strong> .\n",
    "    Si procede creando le migration, ovvero del codice php che verrà interpretato per la creazione delle tabelle <strong>products</strong>. Sarà necessario creare anche i Controllers e definire le Routes (rotte) per gestire la corretta navigazione tra le pagine.<br><br>\n",
    "        Laravel permette la creazione di Model, Controller e Routes con un un solo comando, specificando il solo nome del Model:<br><br>\n",
    "    <code>php artisan make:model Team -mcr</code><br>\n",
    "    <code>php artisan make:model Player -mcr</code>\n",
    "</section>"
   ]
  },
  {
   "cell_type": "markdown",
   "id": "afcb6336",
   "metadata": {},
   "source": [
    "<p>\n",
    "    Adesso in demo/database/migrations saranno apparse delle migration <strong>create_teams_table.php.</strong> e <strong>create_players_table.php.</strong>Si considera che ad un Team appartengono diversi Players, da qui la relazione one-to-many che deve essere modellata inserendo una chiave esterna nella tabella \"Players\" che farà riferimento al campo <strong>ID</strong> della tabella \"Teams\".<br><br>\n",
    "    Vogliamo modificare le funzioni <strong>up()</strong> come segue:"
   ]
  },
  {
   "cell_type": "markdown",
   "id": "e30ec313-353b-4736-8c34-4cdc0d33c926",
   "metadata": {},
   "source": [
    "<h2>Player</h2>"
   ]
  },
  {
   "cell_type": "raw",
   "id": "e49a580a-bfdc-4e55-b1a6-bf57776f44be",
   "metadata": {},
   "source": [
    "Schema::create('players', function (Blueprint $table) {\n",
    "    $table->id();\n",
    "    $table->string(\"nome\");\n",
    "    $table->integer(\"n_maglia\");\n",
    "    $table->unsignedBigInteger(\"team\");\n",
    "    $table->timestamps();\n",
    "    $table->foreign(\"team\")->references(\"id\")->on(\"teams\")->onDelete(\"cascade\");\n",
    "});"
   ]
  },
  {
   "cell_type": "markdown",
   "id": "3264ac2e-efb8-410a-844a-c001e7dc2cc6",
   "metadata": {},
   "source": [
    "<h2>Team</h2>"
   ]
  },
  {
   "cell_type": "raw",
   "id": "351d8c1d-e488-4986-be7d-16f268a641f1",
   "metadata": {},
   "source": [
    "Schema::create('teams', function (Blueprint $table) {\n",
    "    $table->id();\n",
    "    $table->string(\"nome\");\n",
    "    $table->string(\"stadio\");\n",
    "    $table->year(\"anno_fondazione\");\n",
    "    $table->timestamps();\n",
    "});"
   ]
  },
  {
   "cell_type": "markdown",
   "id": "057cae59",
   "metadata": {},
   "source": [
    "<section>\n",
    "    <h2>Avvio della migration</h2>\n",
    "    <p>Con questa fase avrà inizio la creazione delle tabelle secondo le caratteristiche da noi definite.</p>\n",
    "    <code>php artisan migrate</code>\n",
    "    <p>Se si volesse annullare la creazione si può fare rollback come segue.</p>\n",
    "    <code>php artisan migrate:rollback</code>\n",
    "    <p>Dopo l'avvio delle migration si otterranno le tabelle nel database \"Teams_Players\":</p>\n",
    "    <div style=\"display: flex; align-items: center;\">\n",
    "        <img src=\"static/img.png\" width=\"600\" height=\"1200\">\n",
    "    </div>\n",
    "</section>"
   ]
  },
  {
   "cell_type": "markdown",
   "id": "05f76f08",
   "metadata": {},
   "source": [
    "<section>\n",
    "    <h2>Model</h2>\n",
    "    <p>\n",
    "        Adesso troveremo già pronti i boilerplates dei model e del controller associati richiesti.<br>\n",
    "        Li troviamo rispettivamente in <i>\"app/Models/...\"</i> ed in <i>\"app/http/Controllers/...\".</i><br>\n",
    "        Modifichiamo i models come segue:\n",
    "    </p>\n",
    "</section>"
   ]
  },
  {
   "cell_type": "markdown",
   "id": "cf505ac9",
   "metadata": {},
   "source": [
    "<h2>Player</h2>"
   ]
  },
  {
   "cell_type": "raw",
   "id": "73ad351d-8bd7-4247-8fb5-af6d77f6ef25",
   "metadata": {},
   "source": [
    "class Player extends Model\n",
    "{\n",
    "    use HasFactory;\n",
    "\n",
    "    protected $fillable = ['nome', 'n_maglia', 'team']; \n",
    "\n",
    "    public function team()\n",
    "    {\n",
    "        return $this->belongsTo(Team::class);\n",
    "    }\n",
    "}"
   ]
  },
  {
   "cell_type": "markdown",
   "id": "59450177-cd5c-455c-9f66-2bc4ec0f2166",
   "metadata": {},
   "source": [
    "<h2>Team</h2>"
   ]
  },
  {
   "cell_type": "raw",
   "id": "7b1e544f-336c-4828-9daf-223fc0855c0a",
   "metadata": {},
   "source": [
    "class Team extends Model\n",
    "{\n",
    "    use HasFactory;\n",
    "\n",
    "    protected $fillable = ['nome', 'stadio', 'anno_fondazione'];\n",
    "\n",
    "    public function players()\n",
    "    {\n",
    "        return $this->hasMany(Player::class);\n",
    "    }\n",
    "}"
   ]
  },
  {
   "cell_type": "markdown",
   "id": "942d3d7e-4ddb-42b1-a8d5-626d6e3e43e0",
   "metadata": {},
   "source": [
    "<section>\n",
    "    <h2>Views</h2>\n",
    "    <p>\n",
    "        Bisogna creare in <i>resources/views</i> un file <i>\"index.blade.php\"</i> che andrà a modellare la homepage della nostra app.<br>\n",
    "        Per questioni di modularità si creano due sottocartelle \"players\" e \"teams\" in <i>resources/views/...</i>.<br>\n",
    "        Si procede con la creazione delle seguenti viste in <i>resources/views/teams</i> ed in <i>resources/views/players</i>, in particolare si creano :\n",
    "        <ul>\n",
    "            <li>index.blade.php</li>\n",
    "            <li>create.blade.php</li>\n",
    "            <li>show.blade.php</li>\n",
    "            <li>edit.blade.php</li>\n",
    "        </ul>\n",
    "        Ne seguono i rispettivi contenuti:\n",
    "    </p>\n",
    "</section>"
   ]
  },
  {
   "cell_type": "markdown",
   "id": "02a0e658-8cfa-455a-bc50-7eb5eddf8ea7",
   "metadata": {},
   "source": [
    "<h2>index.blade.php</h2>"
   ]
  },
  {
   "cell_type": "raw",
   "id": "4d1d67a0-11ea-4756-89dd-32575669725a",
   "metadata": {},
   "source": [
    "<html>\n",
    "    <body>\n",
    "        <h2>Benvenuto</h2>\n",
    "\n",
    "        <a href=\"{{ route('players.index') }}\"><button>Players</button></a>\n",
    "        <a href=\"{{ route('teams.index') }}\"><button>Teams</button></a>\n",
    "\n",
    "    </body>\n",
    "</html>"
   ]
  },
  {
   "cell_type": "markdown",
   "id": "5b21606f-969b-40c1-9023-e0c794623071",
   "metadata": {},
   "source": [
    "<h2>players/index.blade.php</h2>"
   ]
  },
  {
   "cell_type": "raw",
   "id": "3ecc5059-ee68-43d4-8b97-a5494b3e5d40",
   "metadata": {},
   "source": [
    "<html>\n",
    "    <body>\n",
    "        <h1>Elenco Giocatori</h1>\n",
    "\n",
    "        @foreach ($players as $player)\n",
    "            <p>\n",
    "                ID: {{ $player->id }} - Nome: {{ $player->nome }} - Numero di maglia: {{ $player->n_maglia }} - Squadra: {{ $player->team }}\n",
    "                <a href=\"{{ route('players.show', $player->id) }}\"><button>Mostra</button></a>\n",
    "                <a href=\"{{ route('players.edit', $player->id) }}\"><button>Modifica</button></a>\n",
    "            </p>\n",
    "        @endforeach\n",
    "\n",
    "        <a href=\"{{ route('players.create') }}\">Crea Nuovo Giocatore</a>\n",
    "\n",
    "        <br><br><a href=\"../\"><button>Home</button></a>\n",
    "    </body>\n",
    "</html>"
   ]
  },
  {
   "cell_type": "markdown",
   "id": "598cf078-1d08-428c-90c3-0c671f6e3479",
   "metadata": {},
   "source": [
    "<h2>players/create.blade.php</h2>"
   ]
  },
  {
   "cell_type": "raw",
   "id": "51a2a7ad-28b0-42ab-ac88-02f3e1741fb1",
   "metadata": {},
   "source": [
    "<html>\n",
    "    <body>\n",
    "        <h1>Crea Giocatore</h1>\n",
    "\n",
    "        <form action=\"{{ route('players.store') }}\" method=\"POST\">\n",
    "            @csrf\n",
    "\n",
    "            Nome:<input type=\"text\" name=\"nome\" required>\n",
    "            Numero della maglia:<input type=\"text\" name=\"n_maglia\" required>\n",
    "            Squadra:\n",
    "            <select name=\"team\" required>\n",
    "                @foreach($teams as $team)\n",
    "                    <option value=\"{{ $team->id }}\">{{ $team->nome }}</option>\n",
    "                @endforeach\n",
    "            </select>\n",
    "            <button type=\"submit\">Crea Giocatore</button>\n",
    "        </form>\n",
    "    </body>\n",
    "</html>"
   ]
  },
  {
   "cell_type": "markdown",
   "id": "b004f8d8-6404-4c5e-adf8-86f101eb4eb1",
   "metadata": {},
   "source": [
    "<h2>players/show.blade.php</h2>"
   ]
  },
  {
   "cell_type": "raw",
   "id": "65f1fd92-db79-432f-8ca6-97d6613f9612",
   "metadata": {},
   "source": [
    "<html>\n",
    "    <body>\n",
    "        <h1>Dettagli Giocatore</h1>\n",
    "\n",
    "        <p>ID: {{ $player->id }}</p>\n",
    "        <p>Nome: {{ $player->nome }}</p>\n",
    "        <p>Numero di maglia: {{ $player->n_maglia }}</p>\n",
    "        <p>Squadra: {{ $player->team }}</p>\n",
    "\n",
    "        <form action=\"{{ route('players.destroy', $player->id) }}\" method=\"POST\">\n",
    "            @csrf\n",
    "            @method('delete')\n",
    "            <button type=\"submit\">Elimina</button>\n",
    "        </form><br>\n",
    "\n",
    "        <br><a href=\"{{ route('players.index') }}\"><button>Torna all'elenco</button></a>\n",
    "    </body>\n",
    "</html>"
   ]
  },
  {
   "cell_type": "markdown",
   "id": "ec52680f-eabd-4350-bb1f-14a25525c4f4",
   "metadata": {},
   "source": [
    "<h2>players/edit.blade.php</h2>"
   ]
  },
  {
   "cell_type": "raw",
   "id": "cc6d6ab9-e275-4b5d-86f9-7cec8ded484e",
   "metadata": {},
   "source": [
    "<html>\n",
    "    <body>\n",
    "    <form action=\"{{ route('players.update', $player->id) }}\" method=\"post\">\n",
    "        @csrf\n",
    "        @method('put')\n",
    "\n",
    "        Nome:<input type=\"text\" name=\"nome\" value=\"{{ $player->nome }}\" required>\n",
    "        Numero di maglia:<input type=\"text\" name=\"n_maglia\" value=\"{{ $player->n_maglia }}\" required>\n",
    "        Squadra:\n",
    "        <select name=\"team\" required>\n",
    "            @foreach($teams as $team)\n",
    "                <option value=\"{{ $team->id }}\">{{ $team->nome }}</option>\n",
    "            @endforeach\n",
    "        </select>\n",
    "\n",
    "        <button type=\"submit\">Modifica Gioco</button>\n",
    "\n",
    "        <a href=\"{{ route('players.index') }}\"><button>Torna all'elenco</button></a>\n",
    "    </form>\n",
    "    </body>\n",
    "</html>"
   ]
  },
  {
   "cell_type": "markdown",
   "id": "a01aa38a-1828-45a8-8692-fc07b0c2a916",
   "metadata": {},
   "source": [
    "<h2>teams/index.blade.php</h2>"
   ]
  },
  {
   "cell_type": "raw",
   "id": "ac5e67fb-fd57-4d9f-ab7c-be4887b18131",
   "metadata": {},
   "source": [
    "<html>\n",
    "    <body>\n",
    "        <h1>Elenco Squadre</h1>\n",
    "\n",
    "        @foreach ($teams as $team)\n",
    "            <p>\n",
    "                ID: {{ $team->id }} - Nome: {{ $team->nome }} - Stadio: {{ $team->stadio }} - Anno di fondazione: {{ $team->anno_fondazione }} \n",
    "                <a href=\"{{ route('teams.show', $team->id) }}\">Mostra</a>\n",
    "                <a href=\"{{ route('teams.edit', $team->id) }}\">Modifica</a>\n",
    "            </p>\n",
    "        @endforeach\n",
    "\n",
    "        <a href=\"{{ route('teams.create') }}\"><button> Nuova Squadra</button></a>\n",
    "        <br><br><a href=\"../\"><button>Home</button></a>\n",
    "\n",
    "    </body>\n",
    "</html>"
   ]
  },
  {
   "cell_type": "markdown",
   "id": "906475ae-d83a-42c3-85ff-2a12083b1998",
   "metadata": {},
   "source": [
    "<h2>teams/create.blade.php</h2>"
   ]
  },
  {
   "cell_type": "raw",
   "id": "28910b54-fad9-45c4-b4aa-bf4fde302bcf",
   "metadata": {},
   "source": [
    "<html>\n",
    "    <body>\n",
    "        <h1>Crea nuova Squadra</h1>\n",
    "\n",
    "        <form action=\"{{ route('teams.store') }}\" method=\"POST\">\n",
    "            @csrf\n",
    "\n",
    "            Nome:<input type=\"text\" name=\"nome\" required>\n",
    "            Stadio:<input type=\"text\" name=\"stadio\" required>\n",
    "            Anno di fondazione:<input type=\"text\" name=\"anno_fondazione\" required>\n",
    "            <button type=\"submit\">Crea Squadra</button>\n",
    "        </form>\n",
    "    </body>\n",
    "</html>"
   ]
  },
  {
   "cell_type": "markdown",
   "id": "084b40aa-b93b-4fae-9bb9-9e587352e735",
   "metadata": {},
   "source": [
    "<h2>teams/show.blade.php</h2>"
   ]
  },
  {
   "cell_type": "raw",
   "id": "9ab10850-238a-4d6d-b0a4-ba23302d34e1",
   "metadata": {},
   "source": [
    "<html>\n",
    "    <body>\n",
    "        <h1>Dettagli Squadra</h1>\n",
    "\n",
    "        <p>ID: {{ $team->id }}</p>\n",
    "        <p>Nome: {{ $team->nome }}</p>\n",
    "        <p>Stadio:<input type=\"text\" name=\"stadio\"></p>\n",
    "        <p>Anno di fondazione:<input type=\"text\" name=\"anno_fondazione\"></p>\n",
    "\n",
    "        <form action=\"{{ route('teams.destroy', $team->id) }}\" method=\"POST\">\n",
    "            @csrf\n",
    "            @method('DELETE')\n",
    "            <button type=\"submit\">Elimina</button>\n",
    "        </form>\n",
    "\n",
    "        <a href=\"{{ route('teams.index') }}\"><button>Torna all'elenco</button></a>\n",
    "    </body>\n",
    "</html>"
   ]
  },
  {
   "cell_type": "markdown",
   "id": "bcf027df-0ad1-4fa3-833c-7ebb8c16649a",
   "metadata": {},
   "source": [
    "<h2>teams/edit.blade.php</h2>"
   ]
  },
  {
   "cell_type": "raw",
   "id": "2e1400db-3b6f-42c6-9e4c-a0cc6ea2b98c",
   "metadata": {},
   "source": [
    "<html>\n",
    "    <body>\n",
    "        <h1>Modifica Squadra</h1>\n",
    "\n",
    "        <form action=\"{{ route('teams.update', $team->id) }}\" method=\"POST\">\n",
    "            @csrf\n",
    "            @method('PUT')\n",
    "\n",
    "            Nome:<input type=\"text\" name=\"nome\" value=\"{{ $team->nome }}\">\n",
    "            Stadio:<input type=\"text\" name=\"stadio\" value=\"{{ $team->stadio }}\">\n",
    "            Anno di fondazione:<input type=\"text\" name=\"anno_fondazione\" value=\"{{ $team->anno_fondazione }}\">\n",
    "            <button type=\"submit\">Modifica Squadra</button>\n",
    "            <a href=\"{{ route('teams.index') }}\"><button>Torna all'elenco</button></a>\n",
    "        </form>\n",
    "    </body>\n",
    "</html>"
   ]
  },
  {
   "cell_type": "markdown",
   "id": "11a74446-b882-4eb6-a4e2-12b484442bcb",
   "metadata": {},
   "source": [
    "<h2>Routes</h2>"
   ]
  },
  {
   "cell_type": "markdown",
   "id": "61823f47-6b9f-471b-8acf-eaae80125b95",
   "metadata": {},
   "source": [
    "<p>\n",
    "    Le rotte sono predefinite da Laravel stesso nella misura in cui si siano rispettate le regole <strong>convenzionali</strong> descritte fino ad ora, ad esempio chiamare il model con il nome al singolare di cui è possibile fare il plurale con l'aggiunta di una <i>\"s\"</i>  finale).<br><br>Aggiungere le seguenti righe al file \"web.php\" che si trova in <i>routes/web.php</i> per permettere la generazione di tutte le rotte, in accordo con i metodi definiti nei controller.\n",
    "</p>"
   ]
  },
  {
   "cell_type": "raw",
   "id": "dea3dcf6-9487-44a7-9716-db09fc878c2f",
   "metadata": {},
   "source": [
    "Route::get('/', function () {\n",
    "    return view('index');\n",
    "});\n",
    "\n",
    "Route::resource('teams', TeamController::class);\n",
    "\n",
    "Route::resource('players', PlayerController::class);"
   ]
  },
  {
   "cell_type": "markdown",
   "id": "9088d527-9018-425b-aece-877cd5f183f8",
   "metadata": {},
   "source": [
    "Possono essere visualizzate tramite il seguente comando:<br><br>\n",
    "    <code>php artisan route:list</code>\n",
    "    <div style=\"display: flex; align-items: center;\">\n",
    "        <img src=\"static/img2.png\" width=\"1800\" height=\"1800\">\n",
    "    </div>\n",
    "</p>"
   ]
  },
  {
   "cell_type": "markdown",
   "id": "17faef41-240f-4e34-8c8d-d73edf99a136",
   "metadata": {},
   "source": [
    "<h2>Controllers</h2>"
   ]
  },
  {
   "cell_type": "markdown",
   "id": "f4abded0-7b1a-49fe-b8ed-c6f8b69ddd2e",
   "metadata": {},
   "source": [
    "Se abbiamo fatto tutto correttamente fino a questo punto (brav*) troveremo in <i>\"app/http/Controllers/...\".</i> i boilerplates dei controllers relativi ai model descritti, con le firme di tutti i metodi che ci serve implementare."
   ]
  },
  {
   "cell_type": "markdown",
   "id": "9272973c-f210-413f-bbb2-4ddb6603d006",
   "metadata": {},
   "source": [
    "<ul>\n",
    "    <li><strong>index:</strong> Mostra un elenco della risorsa.</li>\n",
    "    <li><strong>create:</strong> Mostra il modulo per creare una nuova risorsa.</li>\n",
    "    <li><strong>store:</strong> Salva una nuova risorsa appena creata nello storage.</li>\n",
    "    <li><strong>show:</strong> Mostra la risorsa specificata.</li>\n",
    "    <li><strong>edit:</strong> Mostra il modulo per modificare la risorsa specificata.</li>\n",
    "    <li><strong>update:</strong> Aggiorna la risorsa specificata nello storage.</li>\n",
    "    <li><strong>destroy:</strong> Rimuove la risorsa specificata dallo storage.</li>\n",
    "</ul>"
   ]
  },
  {
   "cell_type": "markdown",
   "id": "6ff5c970-b517-4b39-ac0e-bea4b59f56fb",
   "metadata": {},
   "source": [
    "<p>Riempire i metodi dei controllers come segue:</p>"
   ]
  },
  {
   "cell_type": "markdown",
   "id": "5d620f74-dbaa-404c-bcc2-1b7db303439c",
   "metadata": {},
   "source": [
    "<h2>TeamController</h2>"
   ]
  },
  {
   "cell_type": "raw",
   "id": "4619ebfb-2241-4914-b539-48dfd1355bb7",
   "metadata": {},
   "source": [
    "<?php\n",
    "\n",
    "namespace App\\Http\\Controllers;\n",
    "\n",
    "use App\\Models\\Team;\n",
    "use Illuminate\\Http\\Request;\n",
    "\n",
    "class TeamController extends Controller\n",
    "{\n",
    "    public function index()\n",
    "    {\n",
    "        return view('teams.index', [\"teams\" => Team::all()]);\n",
    "    }\n",
    "\n",
    "    public function create()\n",
    "    {\n",
    "        return view('teams.create');\n",
    "    }\n",
    "\n",
    "    public function store(Request $request)\n",
    "    {\n",
    "        Team::create($request->all());\n",
    "        return redirect()->route('teams.index');\n",
    "    }\n",
    "\n",
    "    public function show(Team $team)\n",
    "    {\n",
    "        return view('teams.show', ['team' => $team]);\n",
    "    }\n",
    "\n",
    "    public function edit(Team $team)\n",
    "    {\n",
    "        return view('teams.edit', ['team' => $team]);\n",
    "    }\n",
    "\n",
    "    public function update(Request $request, Team $team)\n",
    "    {\n",
    "        $team->update($request->all());\n",
    "        return redirect()->route('teams.index');\n",
    "    }\n",
    "\n",
    "    public function destroy(Team $team)\n",
    "    {\n",
    "        $team->delete();\n",
    "        return redirect()->route('teams.index');\n",
    "    }\n",
    "}"
   ]
  },
  {
   "cell_type": "markdown",
   "id": "18f55869-7fa4-4abb-a289-362bff775c12",
   "metadata": {},
   "source": [
    "<h2>PlayerController</h2>"
   ]
  },
  {
   "cell_type": "raw",
   "id": "94c05da3-d760-455e-b589-9ea1e018d543",
   "metadata": {},
   "source": [
    "<?php\n",
    "\n",
    "namespace App\\Http\\Controllers;\n",
    "\n",
    "use App\\Models\\Player;\n",
    "use App\\Models\\Team;\n",
    "use Illuminate\\Http\\Request;\n",
    "\n",
    "class PlayerController extends Controller\n",
    "{\n",
    "    public function index()\n",
    "    {\n",
    "        return view('players.index', [\"players\" => Player::all()]);\n",
    "    }\n",
    "\n",
    "    public function create()\n",
    "    {\n",
    "        return view('players.create', [\"teams\" => Team::all()]);\n",
    "    }\n",
    "\n",
    "    public function store(Request $request)\n",
    "    {\n",
    "        Player::create($request->all());\n",
    "        return redirect()->route('players.index');\n",
    "    }\n",
    "\n",
    "    public function show(Player $player)\n",
    "    {\n",
    "        return view('players.show', ['player' => $player]);\n",
    "    }\n",
    "\n",
    "    public function edit(Player $player)\n",
    "    {\n",
    "        return view('players.edit', ['player' => $player, 'teams' => Team::all()]);\n",
    "    }\n",
    "\n",
    "    public function update(Request $request, Player $player)\n",
    "    {\n",
    "        $player->update($request->all());\n",
    "        return redirect()->route('players.index');\n",
    "    }\n",
    "\n",
    "    public function destroy(Player $player)\n",
    "    {\n",
    "        $player->delete();\n",
    "        return redirect()->route('players.index');\n",
    "    }\n",
    "}\n"
   ]
  }
 ],
 "metadata": {
  "kernelspec": {
   "display_name": "Python 3 (ipykernel)",
   "language": "python",
   "name": "python3"
  },
  "language_info": {
   "codemirror_mode": {
    "name": "ipython",
    "version": 3
   },
   "file_extension": ".py",
   "mimetype": "text/x-python",
   "name": "python",
   "nbconvert_exporter": "python",
   "pygments_lexer": "ipython3",
   "version": "3.10.12"
  }
 },
 "nbformat": 4,
 "nbformat_minor": 5
}
