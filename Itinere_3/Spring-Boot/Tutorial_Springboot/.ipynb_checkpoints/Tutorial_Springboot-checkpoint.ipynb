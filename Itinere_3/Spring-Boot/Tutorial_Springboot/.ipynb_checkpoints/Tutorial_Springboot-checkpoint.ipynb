{
 "cells": [
  {
   "cell_type": "markdown",
   "id": "b6a92eee-831e-4f39-92e6-36cd48aeda2e",
   "metadata": {},
   "source": [
    "# Tutorial SpringBoot"
   ]
  },
  {
   "cell_type": "markdown",
   "id": "cf4bcef2-1b06-44df-a189-414f2cce1c8b",
   "metadata": {},
   "source": [
    "<section>\n",
    "    <h2>Descrizione</h2>\n",
    "    <p>\n",
    "        Questo è un semplice tutorial che guida step-by-step alla creazione di un microservizio Laravel denominato <strong>car</strong> che si basa sull'utilizzo di un database <strong>Cars</strong>.<br> Sarà possibile effettuare le seguenti operazioni C R U D :\n",
    "        <ul>\n",
    "            <li>Visione di tutti i record</li>\n",
    "            <li>Inserimento di un record</li>\n",
    "            <li>Vedere tutti i dettagli di un record</li>\n",
    "            <li>Rimozione di un record</li>\n",
    "            <li>Aggiornamento di un record</li>\n",
    "        </ul>\n",
    "    </p>\n",
    "</section>"
   ]
  },
  {
   "cell_type": "markdown",
   "id": "86876836-0def-4c63-962d-e1d0a50ad1c6",
   "metadata": {},
   "source": [
    "<section>\n",
    "    <h2>Creare un progetto da <a href=\"https://start.spring.io/#!type=maven-project&language=java&platformVersion=3.2.1&packaging=jar&jvmVersion=21&groupId=com.example&artifactId=car&name=car&description=Car%20project%20for%20Spring%20Boot&packageName=com.example.car&dependencies=web,thymeleaf,data-jpa,mysql\">Spring Inizializr</a></h2>\n",
    "    <p>Si necessita di inserire le seguenti dependencies al progetto:</p>\n",
    "    <ul>\n",
    "        <li>Spring Web</li>\n",
    "        <li>Thymeleaf</li>\n",
    "        <li>Spring Data JPA</li>\n",
    "        <li>MySQL Driver</li>\n",
    "    </ul>\n",
    "    <p>Clicca su \"generate\" per generare l'archivio compresso contenente il progetto ed aprilo nel tuo Editor.</p>\n",
    "    <code>unzip car.zip</code><br>\n",
    "    <code>code car</code><br><br>\n",
    "    <p>Si nota che di default il server web espone l'applicazione sulla porta 8080 all'indirizzo IP 127.0.0.1 (localhost)</p>\n",
    "</section>"
   ]
  },
  {
   "cell_type": "markdown",
   "id": "e6021001-9601-439d-9a6c-e8fee8642dd4",
   "metadata": {},
   "source": [
    "<h2>Creazione del database</h2>"
   ]
  },
  {
   "cell_type": "markdown",
   "id": "277390d0-3af7-45ee-8c4d-8f85c09b14ea",
   "metadata": {},
   "source": [
    "<code>mysql -u <i>username</i> -p</code><br>\n",
    "<p>Una volta autenticato procedi con la creazione del Database Cars come segue:</p>"
   ]
  },
  {
   "cell_type": "markdown",
   "id": "4395cf83-d675-457b-a605-e9d9fe5340c6",
   "metadata": {},
   "source": [
    "<code>CREATE SCHEMA Cars;</code>"
   ]
  },
  {
   "cell_type": "markdown",
   "id": "87e225fc-e462-4779-a3d6-895436625502",
   "metadata": {},
   "source": [
    "<h2>application.properties</h2>"
   ]
  },
  {
   "cell_type": "markdown",
   "id": "832cd203-55b3-414f-8350-eaf194fedf4d",
   "metadata": {},
   "source": [
    "<p>\n",
    "    Modificare come segue il file <i>src/resources/application.properties</i> nel tuo progetto come segue:\n",
    "</p>"
   ]
  },
  {
   "cell_type": "raw",
   "id": "814d90e8-253f-461e-8408-324a96398bd3",
   "metadata": {},
   "source": [
    "spring.datasource.url=jdbc:mysql://localhost:3306/Cars\n",
    "spring.datasource.username=root\n",
    "spring.datasource.password=root\n",
    "spring.jpa.hibernate.ddl-auto=update"
   ]
  },
  {
   "cell_type": "markdown",
   "id": "32254914-1e17-4904-aaa3-8d4d95ece4e2",
   "metadata": {},
   "source": [
    "<p>Puoi runnare il progetto con:</p>"
   ]
  },
  {
   "cell_type": "markdown",
   "id": "c08292e3-7323-4938-9ce5-f0f751c3dd96",
   "metadata": {},
   "source": [
    "<code>mvn spring-boot:run</code>"
   ]
  },
  {
   "cell_type": "raw",
   "id": "b1d7b0fe-b1c0-4174-83ae-7f387fd65c1c",
   "metadata": {},
   "source": [
    "<div style=\"display: flex; align-items: center;\">\n",
    "    <img src=\"static/img.png\" width=\"600\" height=\"1200\">\n",
    "</div>"
   ]
  },
  {
   "cell_type": "markdown",
   "id": "e70d04a2-982b-43b5-8ec1-0c2532196412",
   "metadata": {},
   "source": [
    "<h2>Creazione di model, controller e repository</h2>"
   ]
  },
  {
   "cell_type": "markdown",
   "id": "02dfe004-33d1-4713-bbda-6a7bbf3ad052",
   "metadata": {},
   "source": [
    "<p>Crea le cartelle apposite \"models\", \"controllers\" e \"repositories\" come segue:</p>"
   ]
  },
  {
   "cell_type": "raw",
   "id": "01bd854b-cc97-4fb6-87b0-3d23aaff42b2",
   "metadata": {},
   "source": [
    "mkdir -p src/main/java/com/example/car/models\n",
    "mkdir -p src/main/java/com/example/car/controllers\n",
    "mkdir -p src/main/java/com/example/car/repositories"
   ]
  },
  {
   "cell_type": "markdown",
   "id": "ed4d21f4-f00b-4128-9dea-85cc3ce1ef42",
   "metadata": {},
   "source": [
    "<h2>Model</h2>"
   ]
  },
  {
   "cell_type": "markdown",
   "id": "c7f49d3c-da79-4e58-8723-8c80fafca375",
   "metadata": {},
   "source": [
    "<p>Crea il model \"Car.java\" in <i>src/main/java/com/example/car/models/</i> e modificarlo come segue:</p>"
   ]
  },
  {
   "cell_type": "raw",
   "id": "1dcc5c7d-7ab4-4f13-87e5-91ec9e500120",
   "metadata": {},
   "source": [
    "package com.example.car.models;\n",
    "\n",
    "import jakarta.persistence.Entity;\n",
    "import jakarta.persistence.GeneratedValue;\n",
    "import jakarta.persistence.GenerationType;\n",
    "import jakarta.persistence.Id;\n",
    "\n",
    "@Entity\n",
    "public class Car {\n",
    "\n",
    "    @Id\n",
    "    @GeneratedValue(strategy = GenerationType.IDENTITY)\n",
    "    \n",
    "    Long id;\n",
    "    String marca;\n",
    "    Integer speed_max;\n",
    "    String targa;\n",
    "\n",
    "    public Car(){}\n",
    "\n",
    "    public Car(String marca, Integer speed_max, String targa){\n",
    "        this.marca=marca;\n",
    "        this.speed_max=speed_max;\n",
    "        this.targa=targa;\n",
    "    }\n",
    "\n",
    "    public Long getId() {\n",
    "        return id;\n",
    "    }\n",
    "\n",
    "    public void setId(Long id) {\n",
    "        this.id = id;\n",
    "    }\n",
    "\n",
    "    public String getMarca() {\n",
    "        return marca;\n",
    "    }\n",
    "\n",
    "    public void setMarca(String marca) {\n",
    "        this.marca = marca;\n",
    "    }\n",
    "\n",
    "    public Integer getSpeed_max() {\n",
    "        return speed_max;\n",
    "    }\n",
    "\n",
    "    public void setSpeed_max(Integer speed_max) {\n",
    "        this.speed_max = speed_max;\n",
    "    }\n",
    "\n",
    "    public String getTarga() {\n",
    "        return targa;\n",
    "    }\n",
    "\n",
    "    public void setTarga(String targa) {\n",
    "        this.targa = targa;\n",
    "    }\n",
    "}"
   ]
  },
  {
   "cell_type": "markdown",
   "id": "a5c3d8ae-eb24-41eb-8cfb-c989e4a53604",
   "metadata": {},
   "source": [
    "<h2>Repository</h2>"
   ]
  },
  {
   "cell_type": "markdown",
   "id": "03a8ced8-0eaf-4651-8ad4-33e08a1b0821",
   "metadata": {},
   "source": [
    "<p>Crea il model \"CarRepository.java\" in <i>src/main/java/com/example/car/repositories/</i> e modificarlo come segue:</p>"
   ]
  },
  {
   "cell_type": "raw",
   "id": "33e8aaed-ed8f-44de-8fc6-37c4d1236ae0",
   "metadata": {},
   "source": [
    "package com.example.car.repositories;\n",
    "\n",
    "import org.springframework.data.jpa.repository.JpaRepository;\n",
    "import org.springframework.stereotype.Repository;\n",
    "\n",
    "import com.example.car.models.Car;\n",
    "\n",
    "@Repository\n",
    "public interface CarRepository extends JpaRepository<Car, Long>{}"
   ]
  },
  {
   "cell_type": "markdown",
   "id": "7b474a37-6037-4dfc-bc59-90559073ce1e",
   "metadata": {},
   "source": [
    "<h2>View</h2>"
   ]
  },
  {
   "cell_type": "markdown",
   "id": "5a871f38-6ec3-42a1-b1d9-fe8f20db04dc",
   "metadata": {},
   "source": [
    "<p>Crea le seguenti views(templates) dentro la cartella <i>/src/main/resources/templates/</i> :</p>\n",
    "<ul>\n",
    "    <li>index.html</li>\n",
    "    <li>create.html</li>\n",
    "    <li>show.html</li>\n",
    "    <li>edit.html</li>\n",
    "</ul>"
   ]
  },
  {
   "cell_type": "markdown",
   "id": "293ba062-d081-4157-b3af-a9fc71c8abb3",
   "metadata": {},
   "source": [
    "<h2>Contenuto di index.html</h2>"
   ]
  },
  {
   "cell_type": "raw",
   "id": "e30a69c6-7e27-4786-9426-b4d62e1bd22c",
   "metadata": {},
   "source": [
    "<html>\n",
    "    <body>\n",
    "        <h2>Cars</h2>\n",
    "\n",
    "        <form th:each=\"car:${Cars}\">\n",
    "            ID: <span th:text=\"${car.id}\"></span> - Marca: <span th:text=\"${car.marca}\"></span>\n",
    "            <button formaction=\"/show\" method=\"GET\">Dettagli</button>\n",
    "            <button formaction=\"/edit\" method=\"GET\">Modifica</button>\n",
    "            <input type=\"hidden\" name=\"id\" th:value=\"${car.id}\"/>\n",
    "        </form>\n",
    "        <br>\n",
    "        <form action=\"/create\" method=\"GET\">\n",
    "            <button>Crea una nuova macchina</button>\n",
    "        </form>\n",
    "        \n",
    "    </body>\n",
    "</html>"
   ]
  },
  {
   "cell_type": "markdown",
   "id": "db0625ff-c09c-4cd8-8433-63b8ad3c530d",
   "metadata": {},
   "source": [
    "<h2>Contenuto di create.html</h2>"
   ]
  },
  {
   "cell_type": "raw",
   "id": "2e83a0cc-602f-4f14-a980-462c514c893d",
   "metadata": {},
   "source": [
    "<html>\n",
    "    <body>\n",
    "        <h2>Cars</h2>\n",
    "\n",
    "        <form action=\"/store\" method=\"POST\">\n",
    "            Marca:<input type=\"text\" name=\"marca\" required><br>\n",
    "            Velocità massima:<input type=\"text\" name=\"speed_max\" required><br>\n",
    "            Targa:<input type=\"text\" name=\"targa\" required><br><br>\n",
    "            <button>Inserisci</button>\n",
    "        </form>\n",
    "\n",
    "        <br><a href=\"/\"><button>Torna alla home</button></a>\n",
    "    </body>\n",
    "</html>"
   ]
  },
  {
   "cell_type": "markdown",
   "id": "77c5d8ab-424a-4963-b9ff-82601b41674e",
   "metadata": {},
   "source": [
    "<h2>Contenuto di show.html</h2>"
   ]
  },
  {
   "cell_type": "raw",
   "id": "5796ffd0-b48f-4e7e-9481-e9de563eb74b",
   "metadata": {},
   "source": [
    "<html>\n",
    "    <body>\n",
    "        <h2>Dettagli</h2>\n",
    "        \n",
    "        <p>ID: <span th:text=\"${car.id}\"></span></p>\n",
    "        <p>Marca: <span th:text=\"${car.marca}\"></span></p>\n",
    "        <p>Velocità massima: <span th:text=\"${car.speed_max}\"></span></p>\n",
    "        <p>Targa: <span th:text=\"${car.targa}\"></span></p>\n",
    "        <br>\n",
    "        <form action=\"/delete\" method=\"POST\">\n",
    "            <button>Rimuovi</button>\n",
    "            <input type=\"hidden\" name=\"id\" th:value=\"${car.id}\"/>\n",
    "        </form>\n",
    "\n",
    "        <br><a href=\"/\"><button>Torna alla home</button></a>\n",
    "    </body>\n",
    "</html>"
   ]
  },
  {
   "cell_type": "markdown",
   "id": "22b5ecb0-95b5-45e2-9c5f-b19e49d09c19",
   "metadata": {},
   "source": [
    "<h2>Contenuto di edit.html</h2>"
   ]
  },
  {
   "cell_type": "raw",
   "id": "c8358163-cdc0-473c-9a36-808c3b823d2f",
   "metadata": {},
   "source": [
    "<html>\n",
    "    <body>\n",
    "        <h2>Modifica</h2>\n",
    "\n",
    "        <form action=\"/update\" method=\"POST\" th:object=\"${car}\">\n",
    "            Marca:<input type=\"text\" th:field=\"*{marca}\"><br>\n",
    "            Velocità massima:<input type=\"text\" th:field=\"*{speed_max}\"><br>\n",
    "            Targa:<input type=\"text\" th:field=\"*{targa}\"><br><br>\n",
    "            <button>Salva modifiche</button>\n",
    "            <input type=\"hidden\" th:field=\"*{id}\"/>\n",
    "        </form>\n",
    "\n",
    "        <br><a href=\"/\"><button>Torna alla home</button></a>\n",
    "    </body>\n",
    "</html>"
   ]
  },
  {
   "cell_type": "markdown",
   "id": "da0e3238-2447-44c7-b155-13b3d477bdd0",
   "metadata": {},
   "source": [
    "<h2>Controller</h2>"
   ]
  },
  {
   "cell_type": "markdown",
   "id": "aa7f8ac4-baed-4519-bedf-43b862eb30d9",
   "metadata": {},
   "source": [
    "<p>Crea il model \"CarController.java\" in <i>src/main/java/com/example/car/controllers/</i> e modificarlo come segue:</p>"
   ]
  },
  {
   "cell_type": "raw",
   "id": "1d02c341-5625-46a1-b9ae-455aa2363191",
   "metadata": {},
   "source": [
    "package com.example.car.controllers;\n",
    "\n",
    "import org.springframework.stereotype.Controller;\n",
    "import org.springframework.web.bind.annotation.GetMapping;\n",
    "import org.springframework.web.bind.annotation.PostMapping;\n",
    "\n",
    "import org.springframework.ui.Model;\n",
    "import com.example.car.models.Car;\n",
    "import com.example.car.repositories.CarRepository;\n",
    "\n",
    "@Controller\n",
    "public class CarController {\n",
    "\n",
    "    private final CarRepository repo;\n",
    "\n",
    "    public CarController(CarRepository repo) {\n",
    "        this.repo = repo;\n",
    "    }\n",
    "\n",
    "    @GetMapping(\"/\")\n",
    "    public String index(Model model) {\n",
    "        model.addAttribute(\"Cars\", repo.findAll());\n",
    "        return \"index\"; \n",
    "    }  \n",
    "    \n",
    "    @GetMapping(\"/create\")\n",
    "    public String create() {\n",
    "        return \"create\"; \n",
    "    }  \n",
    "\n",
    "    @PostMapping(\"/store\")\n",
    "    public String store(Car car) {\n",
    "        repo.save(car);\n",
    "        return \"redirect:/\"; \n",
    "    }  \n",
    "\n",
    "    @GetMapping(\"/show\")\n",
    "    public String show(Model model, Long id) {\n",
    "        model.addAttribute(\"car\", repo.findById(id).orElse(null));\n",
    "        return \"show\";\n",
    "    }\n",
    "\n",
    "    @GetMapping(\"/edit\")\n",
    "    public String edit(Model model, Long id) {\n",
    "        model.addAttribute(\"car\", repo.findById(id).orElse(null));\n",
    "        return \"edit\";\n",
    "    }\n",
    "\n",
    "    @PostMapping(\"/update\")\n",
    "    public String update(Car car) {\n",
    "        repo.save(car);\n",
    "        return \"redirect:/\";\n",
    "    }\n",
    "\n",
    "    @PostMapping(\"/delete\")\n",
    "    public String delete(Long id) {\n",
    "        repo.deleteById(id);\n",
    "        return \"redirect:/\";\n",
    "    }\n",
    "}"
   ]
  }
 ],
 "metadata": {
  "kernelspec": {
   "display_name": "Python 3 (ipykernel)",
   "language": "python",
   "name": "python3"
  },
  "language_info": {
   "codemirror_mode": {
    "name": "ipython",
    "version": 3
   },
   "file_extension": ".py",
   "mimetype": "text/x-python",
   "name": "python",
   "nbconvert_exporter": "python",
   "pygments_lexer": "ipython3",
   "version": "3.10.12"
  }
 },
 "nbformat": 4,
 "nbformat_minor": 5
}
